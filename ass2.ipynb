{
  "nbformat": 4,
  "nbformat_minor": 0,
  "metadata": {
    "colab": {
      "name": "Untitled0.ipynb",
      "provenance": []
    },
    "kernelspec": {
      "name": "python3",
      "display_name": "Python 3"
    }
  },
  "cells": [
    {
      "cell_type": "code",
      "metadata": {
        "id": "UDtCjGsrIt_V",
        "colab_type": "code",
        "colab": {}
      },
      "source": [
        "import torch\n",
        "import torchvision\n",
        "import torch.nn as nn\n",
        "import pandas as pd\n",
        "import matplotlib.pyplot as plt\n",
        "import torch.nn.functional as F\n",
        "from torchvision.datasets.utils import download_url\n",
        "from torch.utils.data import DataLoader, TensorDataset, random_split"
      ],
      "execution_count": 0,
      "outputs": []
    },
    {
      "cell_type": "code",
      "metadata": {
        "id": "wzgx0FC9I0PA",
        "colab_type": "code",
        "colab": {
          "base_uri": "https://localhost:8080/",
          "height": 34
        },
        "outputId": "e9963d69-8625-4360-dc65-0a828c687ab2"
      },
      "source": [
        "DATASET_URL = \"https://hub.jovian.ml/wp-content/uploads/2020/05/insurance.csv\"\n",
        "DATA_FILENAME = \"insurance.csv\"\n",
        "download_url(DATASET_URL, '.')"
      ],
      "execution_count": 73,
      "outputs": [
        {
          "output_type": "stream",
          "text": [
            "Using downloaded and verified file: ./insurance.csv\n"
          ],
          "name": "stdout"
        }
      ]
    },
    {
      "cell_type": "code",
      "metadata": {
        "id": "Exh-hUl4I7lW",
        "colab_type": "code",
        "colab": {
          "base_uri": "https://localhost:8080/",
          "height": 198
        },
        "outputId": "0bb2d716-311c-4d71-ee83-f830741d59ae"
      },
      "source": [
        "dataframe_raw = pd.read_csv(DATA_FILENAME)\n",
        "dataframe_raw.head()"
      ],
      "execution_count": 74,
      "outputs": [
        {
          "output_type": "execute_result",
          "data": {
            "text/html": [
              "<div>\n",
              "<style scoped>\n",
              "    .dataframe tbody tr th:only-of-type {\n",
              "        vertical-align: middle;\n",
              "    }\n",
              "\n",
              "    .dataframe tbody tr th {\n",
              "        vertical-align: top;\n",
              "    }\n",
              "\n",
              "    .dataframe thead th {\n",
              "        text-align: right;\n",
              "    }\n",
              "</style>\n",
              "<table border=\"1\" class=\"dataframe\">\n",
              "  <thead>\n",
              "    <tr style=\"text-align: right;\">\n",
              "      <th></th>\n",
              "      <th>age</th>\n",
              "      <th>sex</th>\n",
              "      <th>bmi</th>\n",
              "      <th>children</th>\n",
              "      <th>smoker</th>\n",
              "      <th>region</th>\n",
              "      <th>charges</th>\n",
              "    </tr>\n",
              "  </thead>\n",
              "  <tbody>\n",
              "    <tr>\n",
              "      <th>0</th>\n",
              "      <td>19</td>\n",
              "      <td>female</td>\n",
              "      <td>27.900</td>\n",
              "      <td>0</td>\n",
              "      <td>yes</td>\n",
              "      <td>southwest</td>\n",
              "      <td>16884.92400</td>\n",
              "    </tr>\n",
              "    <tr>\n",
              "      <th>1</th>\n",
              "      <td>18</td>\n",
              "      <td>male</td>\n",
              "      <td>33.770</td>\n",
              "      <td>1</td>\n",
              "      <td>no</td>\n",
              "      <td>southeast</td>\n",
              "      <td>1725.55230</td>\n",
              "    </tr>\n",
              "    <tr>\n",
              "      <th>2</th>\n",
              "      <td>28</td>\n",
              "      <td>male</td>\n",
              "      <td>33.000</td>\n",
              "      <td>3</td>\n",
              "      <td>no</td>\n",
              "      <td>southeast</td>\n",
              "      <td>4449.46200</td>\n",
              "    </tr>\n",
              "    <tr>\n",
              "      <th>3</th>\n",
              "      <td>33</td>\n",
              "      <td>male</td>\n",
              "      <td>22.705</td>\n",
              "      <td>0</td>\n",
              "      <td>no</td>\n",
              "      <td>northwest</td>\n",
              "      <td>21984.47061</td>\n",
              "    </tr>\n",
              "    <tr>\n",
              "      <th>4</th>\n",
              "      <td>32</td>\n",
              "      <td>male</td>\n",
              "      <td>28.880</td>\n",
              "      <td>0</td>\n",
              "      <td>no</td>\n",
              "      <td>northwest</td>\n",
              "      <td>3866.85520</td>\n",
              "    </tr>\n",
              "  </tbody>\n",
              "</table>\n",
              "</div>"
            ],
            "text/plain": [
              "   age     sex     bmi  children smoker     region      charges\n",
              "0   19  female  27.900         0    yes  southwest  16884.92400\n",
              "1   18    male  33.770         1     no  southeast   1725.55230\n",
              "2   28    male  33.000         3     no  southeast   4449.46200\n",
              "3   33    male  22.705         0     no  northwest  21984.47061\n",
              "4   32    male  28.880         0     no  northwest   3866.85520"
            ]
          },
          "metadata": {
            "tags": []
          },
          "execution_count": 74
        }
      ]
    },
    {
      "cell_type": "code",
      "metadata": {
        "id": "_tLnNakfJDmZ",
        "colab_type": "code",
        "colab": {}
      },
      "source": [
        "your_name = 'Rohit'"
      ],
      "execution_count": 0,
      "outputs": []
    },
    {
      "cell_type": "code",
      "metadata": {
        "id": "Vwu8IDmjJWJI",
        "colab_type": "code",
        "colab": {}
      },
      "source": [
        "def customize_dataset(dataframe_raw, rand_str):\n",
        "    dataframe = dataframe_raw.copy(deep=True)\n",
        "    # drop some rows\n",
        "    dataframe = dataframe.sample(int(0.95*len(dataframe)), random_state=int(ord(rand_str[0])))\n",
        "    # scale input\n",
        "    dataframe.bmi = dataframe.bmi * ord(rand_str[1])/100.\n",
        "    # scale target\n",
        "    dataframe.charges = dataframe.charges * ord(rand_str[2])/100.\n",
        "    # drop column\n",
        "    if ord(rand_str[3]) % 2 == 1:\n",
        "        dataframe = dataframe.drop(['region'], axis=1)\n",
        "    return dataframe"
      ],
      "execution_count": 0,
      "outputs": []
    },
    {
      "cell_type": "code",
      "metadata": {
        "id": "1Kaz6o5rJZ-j",
        "colab_type": "code",
        "colab": {
          "base_uri": "https://localhost:8080/",
          "height": 198
        },
        "outputId": "b946603f-4808-40b2-a1f1-17db6bee59ee"
      },
      "source": [
        "dataframe = customize_dataset(dataframe_raw, your_name)\n",
        "dataframe.head()"
      ],
      "execution_count": 77,
      "outputs": [
        {
          "output_type": "execute_result",
          "data": {
            "text/html": [
              "<div>\n",
              "<style scoped>\n",
              "    .dataframe tbody tr th:only-of-type {\n",
              "        vertical-align: middle;\n",
              "    }\n",
              "\n",
              "    .dataframe tbody tr th {\n",
              "        vertical-align: top;\n",
              "    }\n",
              "\n",
              "    .dataframe thead th {\n",
              "        text-align: right;\n",
              "    }\n",
              "</style>\n",
              "<table border=\"1\" class=\"dataframe\">\n",
              "  <thead>\n",
              "    <tr style=\"text-align: right;\">\n",
              "      <th></th>\n",
              "      <th>age</th>\n",
              "      <th>sex</th>\n",
              "      <th>bmi</th>\n",
              "      <th>children</th>\n",
              "      <th>smoker</th>\n",
              "      <th>charges</th>\n",
              "    </tr>\n",
              "  </thead>\n",
              "  <tbody>\n",
              "    <tr>\n",
              "      <th>457</th>\n",
              "      <td>57</td>\n",
              "      <td>female</td>\n",
              "      <td>33.84945</td>\n",
              "      <td>0</td>\n",
              "      <td>no</td>\n",
              "      <td>12314.406052</td>\n",
              "    </tr>\n",
              "    <tr>\n",
              "      <th>1050</th>\n",
              "      <td>44</td>\n",
              "      <td>female</td>\n",
              "      <td>41.02005</td>\n",
              "      <td>1</td>\n",
              "      <td>no</td>\n",
              "      <td>8344.060868</td>\n",
              "    </tr>\n",
              "    <tr>\n",
              "      <th>56</th>\n",
              "      <td>58</td>\n",
              "      <td>female</td>\n",
              "      <td>35.32575</td>\n",
              "      <td>2</td>\n",
              "      <td>no</td>\n",
              "      <td>14151.663500</td>\n",
              "    </tr>\n",
              "    <tr>\n",
              "      <th>311</th>\n",
              "      <td>19</td>\n",
              "      <td>female</td>\n",
              "      <td>27.41700</td>\n",
              "      <td>0</td>\n",
              "      <td>no</td>\n",
              "      <td>1806.871040</td>\n",
              "    </tr>\n",
              "    <tr>\n",
              "      <th>1288</th>\n",
              "      <td>20</td>\n",
              "      <td>male</td>\n",
              "      <td>43.73400</td>\n",
              "      <td>2</td>\n",
              "      <td>yes</td>\n",
              "      <td>39878.348640</td>\n",
              "    </tr>\n",
              "  </tbody>\n",
              "</table>\n",
              "</div>"
            ],
            "text/plain": [
              "      age     sex       bmi  children smoker       charges\n",
              "457    57  female  33.84945         0     no  12314.406052\n",
              "1050   44  female  41.02005         1     no   8344.060868\n",
              "56     58  female  35.32575         2     no  14151.663500\n",
              "311    19  female  27.41700         0     no   1806.871040\n",
              "1288   20    male  43.73400         2    yes  39878.348640"
            ]
          },
          "metadata": {
            "tags": []
          },
          "execution_count": 77
        }
      ]
    },
    {
      "cell_type": "code",
      "metadata": {
        "id": "fHoVA_PtJcsc",
        "colab_type": "code",
        "colab": {
          "base_uri": "https://localhost:8080/",
          "height": 34
        },
        "outputId": "fb85616a-b933-4a38-f490-7bfa51789652"
      },
      "source": [
        "dataframe.shape"
      ],
      "execution_count": 78,
      "outputs": [
        {
          "output_type": "execute_result",
          "data": {
            "text/plain": [
              "(1271, 6)"
            ]
          },
          "metadata": {
            "tags": []
          },
          "execution_count": 78
        }
      ]
    },
    {
      "cell_type": "code",
      "metadata": {
        "id": "FoQ5iCAIJriV",
        "colab_type": "code",
        "colab": {
          "base_uri": "https://localhost:8080/",
          "height": 34
        },
        "outputId": "8a980ffb-4cb7-4c9f-f6d7-fc8548a9d730"
      },
      "source": [
        "num_rows = dataframe.shape[0]\n",
        "num_rows"
      ],
      "execution_count": 79,
      "outputs": [
        {
          "output_type": "execute_result",
          "data": {
            "text/plain": [
              "1271"
            ]
          },
          "metadata": {
            "tags": []
          },
          "execution_count": 79
        }
      ]
    },
    {
      "cell_type": "code",
      "metadata": {
        "id": "YbQpwnL_KBAq",
        "colab_type": "code",
        "colab": {
          "base_uri": "https://localhost:8080/",
          "height": 34
        },
        "outputId": "5c986427-4a8f-4671-fd7c-70b2350f6772"
      },
      "source": [
        "num_cols = dataframe.shape[1]\n",
        "num_cols"
      ],
      "execution_count": 80,
      "outputs": [
        {
          "output_type": "execute_result",
          "data": {
            "text/plain": [
              "6"
            ]
          },
          "metadata": {
            "tags": []
          },
          "execution_count": 80
        }
      ]
    },
    {
      "cell_type": "code",
      "metadata": {
        "id": "1GLA7RqiKJaq",
        "colab_type": "code",
        "colab": {
          "base_uri": "https://localhost:8080/",
          "height": 34
        },
        "outputId": "cae92ebe-cf57-4a67-b0de-b50250373618"
      },
      "source": [
        "input_cols = list(dataframe.drop('charges',axis =1))\n",
        "input_cols"
      ],
      "execution_count": 86,
      "outputs": [
        {
          "output_type": "execute_result",
          "data": {
            "text/plain": [
              "['age', 'sex', 'bmi', 'children', 'smoker']"
            ]
          },
          "metadata": {
            "tags": []
          },
          "execution_count": 86
        }
      ]
    },
    {
      "cell_type": "code",
      "metadata": {
        "id": "x7DFQjwCKOx_",
        "colab_type": "code",
        "colab": {
          "base_uri": "https://localhost:8080/",
          "height": 34
        },
        "outputId": "51afdc5d-3f5d-4bd9-817e-783e75ef5d16"
      },
      "source": [
        "categorical_cols = list(dataframe.select_dtypes(exclude=['float','int']))\n",
        "categorical_cols"
      ],
      "execution_count": 87,
      "outputs": [
        {
          "output_type": "execute_result",
          "data": {
            "text/plain": [
              "['sex', 'smoker']"
            ]
          },
          "metadata": {
            "tags": []
          },
          "execution_count": 87
        }
      ]
    },
    {
      "cell_type": "code",
      "metadata": {
        "id": "FzWKN_fDLAHi",
        "colab_type": "code",
        "colab": {
          "base_uri": "https://localhost:8080/",
          "height": 34
        },
        "outputId": "7c6182ad-de0a-4123-f45a-d3555e1927de"
      },
      "source": [
        "output_cols = [dataframe.columns[-1]]\n",
        "output_cols"
      ],
      "execution_count": 99,
      "outputs": [
        {
          "output_type": "execute_result",
          "data": {
            "text/plain": [
              "['charges']"
            ]
          },
          "metadata": {
            "tags": []
          },
          "execution_count": 99
        }
      ]
    },
    {
      "cell_type": "code",
      "metadata": {
        "id": "tKbKUZbOtjX3",
        "colab_type": "code",
        "colab": {}
      },
      "source": [
        "def dataframe_to_arrays(dataframe):\n",
        "    # Make a copy of the original dataframe\n",
        "    dataframe1 = dataframe.copy(deep=True)\n",
        "    # Convert non-numeric categorical columns to numbers\n",
        "    for col in categorical_cols:\n",
        "        dataframe1[col] = dataframe1[col].astype('category').cat.codes\n",
        "    # Extract input & outupts as numpy arrays\n",
        "    inputs_array = dataframe1[input_cols].to_numpy()\n",
        "    targets_array = dataframe1[output_cols].to_numpy()\n",
        "    return inputs_array, targets_array"
      ],
      "execution_count": 0,
      "outputs": []
    },
    {
      "cell_type": "code",
      "metadata": {
        "id": "75Ws5-JQt64N",
        "colab_type": "code",
        "colab": {
          "base_uri": "https://localhost:8080/",
          "height": 258
        },
        "outputId": "5ce986f4-486c-4538-f90c-a36f07a7a9a2"
      },
      "source": [
        "inputs_array, targets_array = dataframe_to_arrays(dataframe)\n",
        "inputs_array, targets_array"
      ],
      "execution_count": 101,
      "outputs": [
        {
          "output_type": "execute_result",
          "data": {
            "text/plain": [
              "(array([[57.     ,  0.     , 33.84945,  0.     ,  0.     ],\n",
              "        [44.     ,  0.     , 41.02005,  1.     ,  0.     ],\n",
              "        [58.     ,  0.     , 35.32575,  2.     ,  0.     ],\n",
              "        ...,\n",
              "        [59.     ,  0.     , 38.628  ,  2.     ,  0.     ],\n",
              "        [41.     ,  1.     , 31.968  ,  1.     ,  0.     ],\n",
              "        [36.     ,  0.     , 33.3222 ,  0.     ,  0.     ]]),\n",
              " array([[12314.406052 ],\n",
              "        [ 8344.060868 ],\n",
              "        [14151.6635   ],\n",
              "        ...,\n",
              "        [38387.0323512],\n",
              "        [ 6533.5244   ],\n",
              "        [ 5483.062832 ]]))"
            ]
          },
          "metadata": {
            "tags": []
          },
          "execution_count": 101
        }
      ]
    },
    {
      "cell_type": "code",
      "metadata": {
        "id": "3IxKN9qwt-S9",
        "colab_type": "code",
        "colab": {}
      },
      "source": [
        "inputs = torch.tensor(inputs_array, dtype=torch.float32)\n",
        "targets = torch.tensor(targets_array, dtype=torch.float32)"
      ],
      "execution_count": 0,
      "outputs": []
    },
    {
      "cell_type": "code",
      "metadata": {
        "id": "cDxauFam1Xx6",
        "colab_type": "code",
        "colab": {
          "base_uri": "https://localhost:8080/",
          "height": 34
        },
        "outputId": "3f4dc4b4-cd37-4901-85ca-e30512d85764"
      },
      "source": [
        "inputs.dtype, targets.dtype"
      ],
      "execution_count": 103,
      "outputs": [
        {
          "output_type": "execute_result",
          "data": {
            "text/plain": [
              "(torch.float32, torch.float32)"
            ]
          },
          "metadata": {
            "tags": []
          },
          "execution_count": 103
        }
      ]
    },
    {
      "cell_type": "code",
      "metadata": {
        "id": "H8BgMhgNFHAw",
        "colab_type": "code",
        "colab": {}
      },
      "source": [
        "dataset = TensorDataset(inputs, targets)"
      ],
      "execution_count": 0,
      "outputs": []
    },
    {
      "cell_type": "code",
      "metadata": {
        "id": "tWMk_gdEF_4M",
        "colab_type": "code",
        "colab": {
          "base_uri": "https://localhost:8080/",
          "height": 34
        },
        "outputId": "6c6ca40a-371e-41ef-87d3-8c6fe5bb86e7"
      },
      "source": [
        "val_percent = 0.12 # between 0.1 and 0.2\n",
        "val_size = int(num_rows * val_percent)\n",
        "\n",
        "train_size = num_rows - val_size\n",
        "print(val_size ,train_size)\n",
        "\n",
        "train_ds, val_ds = random_split(dataset, [train_size, val_size])"
      ],
      "execution_count": 107,
      "outputs": [
        {
          "output_type": "stream",
          "text": [
            "152 1119\n"
          ],
          "name": "stdout"
        }
      ]
    },
    {
      "cell_type": "code",
      "metadata": {
        "id": "LUIVuf6WGCzb",
        "colab_type": "code",
        "colab": {}
      },
      "source": [
        "batch_size = 128"
      ],
      "execution_count": 0,
      "outputs": []
    },
    {
      "cell_type": "code",
      "metadata": {
        "id": "Z61Pj8u2Gjdr",
        "colab_type": "code",
        "colab": {}
      },
      "source": [
        "train_loader = DataLoader(train_ds, batch_size, shuffle=True)\n",
        "val_loader = DataLoader(val_ds, batch_size)"
      ],
      "execution_count": 0,
      "outputs": []
    },
    {
      "cell_type": "code",
      "metadata": {
        "id": "JwKDVbJGGtDc",
        "colab_type": "code",
        "colab": {
          "base_uri": "https://localhost:8080/",
          "height": 1000
        },
        "outputId": "ab1a699e-091c-432d-f962-901996a4c9e2"
      },
      "source": [
        "for xb, yb in train_loader:\n",
        "    print(\"inputs:\", xb)\n",
        "    print(\"targets:\", yb)\n",
        "    break"
      ],
      "execution_count": 110,
      "outputs": [
        {
          "output_type": "stream",
          "text": [
            "inputs: tensor([[54.0000,  0.0000, 34.1880,  3.0000,  0.0000],\n",
            "        [45.0000,  0.0000, 42.4963,  0.0000,  0.0000],\n",
            "        [60.0000,  0.0000, 30.5805,  0.0000,  0.0000],\n",
            "        [58.0000,  0.0000, 25.2747,  0.0000,  0.0000],\n",
            "        [33.0000,  0.0000, 36.5190,  2.0000,  0.0000],\n",
            "        [18.0000,  1.0000, 35.2203,  0.0000,  1.0000],\n",
            "        [30.0000,  1.0000, 39.1830,  0.0000,  1.0000],\n",
            "        [51.0000,  1.0000, 28.1940,  0.0000,  0.0000],\n",
            "        [58.0000,  1.0000, 41.0201,  2.0000,  1.0000],\n",
            "        [41.0000,  1.0000, 37.2405,  0.0000,  0.0000],\n",
            "        [19.0000,  1.0000, 36.7410,  0.0000,  0.0000],\n",
            "        [32.0000,  0.0000, 19.7192,  2.0000,  1.0000],\n",
            "        [34.0000,  0.0000, 41.4418,  2.0000,  0.0000],\n",
            "        [57.0000,  0.0000, 28.5714,  2.0000,  0.0000],\n",
            "        [50.0000,  1.0000, 35.8530,  1.0000,  1.0000],\n",
            "        [29.0000,  1.0000, 39.4050,  2.0000,  1.0000],\n",
            "        [39.0000,  1.0000, 50.4273,  2.0000,  0.0000],\n",
            "        [18.0000,  1.0000, 37.3626,  0.0000,  0.0000],\n",
            "        [32.0000,  1.0000, 32.1123,  1.0000,  1.0000],\n",
            "        [44.0000,  1.0000, 33.5220,  2.0000,  1.0000],\n",
            "        [26.0000,  0.0000, 47.0640,  1.0000,  0.0000],\n",
            "        [25.0000,  1.0000, 33.9549,  0.0000,  0.0000],\n",
            "        [38.0000,  1.0000, 31.3797,  1.0000,  0.0000],\n",
            "        [28.0000,  0.0000, 38.5947,  0.0000,  0.0000],\n",
            "        [62.0000,  1.0000, 43.1013,  0.0000,  0.0000],\n",
            "        [49.0000,  0.0000, 23.6430,  1.0000,  0.0000],\n",
            "        [57.0000,  0.0000, 38.0675,  2.0000,  0.0000],\n",
            "        [23.0000,  0.0000, 31.2132,  0.0000,  0.0000],\n",
            "        [31.0000,  0.0000, 32.3010,  0.0000,  0.0000],\n",
            "        [41.0000,  1.0000, 31.9680,  1.0000,  0.0000],\n",
            "        [29.0000,  1.0000, 24.9916,  3.0000,  0.0000],\n",
            "        [62.0000,  0.0000, 36.5911,  3.0000,  0.0000],\n",
            "        [63.0000,  1.0000, 40.8092,  0.0000,  0.0000],\n",
            "        [47.0000,  1.0000, 52.7472,  1.0000,  0.0000],\n",
            "        [18.0000,  1.0000, 47.7411,  0.0000,  0.0000],\n",
            "        [61.0000,  1.0000, 31.4241,  1.0000,  1.0000],\n",
            "        [38.0000,  1.0000, 38.5170,  2.0000,  0.0000],\n",
            "        [48.0000,  1.0000, 39.5438,  4.0000,  0.0000],\n",
            "        [60.0000,  1.0000, 31.7404,  0.0000,  0.0000],\n",
            "        [29.0000,  0.0000, 39.4383,  0.0000,  0.0000],\n",
            "        [37.0000,  1.0000, 32.9004,  0.0000,  0.0000],\n",
            "        [64.0000,  0.0000, 25.5189,  0.0000,  1.0000],\n",
            "        [54.0000,  1.0000, 28.2606,  1.0000,  0.0000],\n",
            "        [62.0000,  0.0000, 27.7500,  0.0000,  0.0000],\n",
            "        [19.0000,  0.0000, 27.2061,  1.0000,  0.0000],\n",
            "        [32.0000,  1.0000, 30.8969,  1.0000,  0.0000],\n",
            "        [28.0000,  1.0000, 24.9916,  2.0000,  0.0000],\n",
            "        [20.0000,  0.0000, 34.9206,  0.0000,  0.0000],\n",
            "        [55.0000,  0.0000, 29.9478,  0.0000,  0.0000],\n",
            "        [24.0000,  0.0000, 22.7772,  0.0000,  1.0000],\n",
            "        [56.0000,  1.0000, 35.2869,  2.0000,  1.0000],\n",
            "        [37.0000,  0.0000, 34.1880,  2.0000,  0.0000],\n",
            "        [22.0000,  1.0000, 35.2203,  0.0000,  0.0000],\n",
            "        [42.0000,  0.0000, 28.0830,  1.0000,  0.0000],\n",
            "        [38.0000,  0.0000, 33.5331,  3.0000,  0.0000],\n",
            "        [49.0000,  0.0000, 26.4680,  3.0000,  1.0000],\n",
            "        [26.0000,  0.0000, 19.0865,  2.0000,  1.0000],\n",
            "        [29.0000,  1.0000, 35.6421,  2.0000,  0.0000],\n",
            "        [23.0000,  0.0000, 43.5897,  2.0000,  0.0000],\n",
            "        [54.0000,  0.0000, 52.6251,  0.0000,  1.0000],\n",
            "        [19.0000,  1.0000, 21.9780,  0.0000,  0.0000],\n",
            "        [64.0000,  0.0000, 43.3455,  3.0000,  0.0000],\n",
            "        [19.0000,  0.0000, 39.0165,  0.0000,  0.0000],\n",
            "        [38.0000,  1.0000, 30.8969,  2.0000,  0.0000],\n",
            "        [63.0000,  0.0000, 40.2930,  0.0000,  0.0000],\n",
            "        [35.0000,  0.0000, 30.7470,  3.0000,  0.0000],\n",
            "        [43.0000,  1.0000, 33.4277,  3.0000,  0.0000],\n",
            "        [43.0000,  1.0000, 30.3696,  3.0000,  0.0000],\n",
            "        [42.0000,  1.0000, 39.9267,  2.0000,  0.0000],\n",
            "        [27.0000,  0.0000, 19.9300,  2.0000,  1.0000],\n",
            "        [40.0000,  0.0000, 33.0891,  1.0000,  0.0000],\n",
            "        [40.0000,  1.0000, 39.1830,  3.0000,  0.0000],\n",
            "        [22.0000,  1.0000, 43.8450,  0.0000,  0.0000],\n",
            "        [22.0000,  1.0000, 38.6280,  3.0000,  0.0000],\n",
            "        [56.0000,  0.0000, 29.5260,  1.0000,  0.0000],\n",
            "        [37.0000,  0.0000, 52.8360,  2.0000,  1.0000],\n",
            "        [18.0000,  0.0000, 33.4277,  0.0000,  0.0000],\n",
            "        [48.0000,  0.0000, 39.8601,  1.0000,  0.0000],\n",
            "        [53.0000,  0.0000, 27.5224,  1.0000,  0.0000],\n",
            "        [61.0000,  0.0000, 27.8388,  0.0000,  0.0000],\n",
            "        [30.0000,  0.0000, 35.9640,  1.0000,  0.0000],\n",
            "        [21.0000,  0.0000, 28.6380,  0.0000,  0.0000],\n",
            "        [21.0000,  0.0000, 37.3293,  2.0000,  0.0000],\n",
            "        [20.0000,  1.0000, 34.0603,  0.0000,  1.0000],\n",
            "        [57.0000,  1.0000, 32.1623,  0.0000,  1.0000],\n",
            "        [33.0000,  0.0000, 43.1790,  3.0000,  0.0000],\n",
            "        [19.0000,  0.0000, 22.8660,  0.0000,  0.0000],\n",
            "        [43.0000,  1.0000, 28.8933,  0.0000,  0.0000],\n",
            "        [54.0000,  1.0000, 33.3222,  0.0000,  0.0000],\n",
            "        [53.0000,  0.0000, 29.6370,  2.0000,  0.0000],\n",
            "        [32.0000,  0.0000, 35.0094,  1.0000,  0.0000],\n",
            "        [56.0000,  1.0000, 29.6315,  1.0000,  1.0000],\n",
            "        [27.0000,  0.0000, 26.7510,  0.0000,  0.0000],\n",
            "        [42.0000,  0.0000, 32.1900,  1.0000,  0.0000],\n",
            "        [37.0000,  1.0000, 25.2026,  3.0000,  0.0000],\n",
            "        [18.0000,  1.0000, 36.9963,  0.0000,  0.0000],\n",
            "        [46.0000,  1.0000, 37.0130,  1.0000,  0.0000],\n",
            "        [47.0000,  0.0000, 32.6007,  1.0000,  0.0000],\n",
            "        [19.0000,  1.0000, 49.8168,  0.0000,  1.0000],\n",
            "        [58.0000,  1.0000, 31.7404,  0.0000,  0.0000],\n",
            "        [54.0000,  0.0000, 23.8317,  3.0000,  0.0000],\n",
            "        [51.0000,  1.0000, 36.9963,  3.0000,  0.0000],\n",
            "        [18.0000,  0.0000, 40.9035,  0.0000,  1.0000],\n",
            "        [45.0000,  1.0000, 40.4928,  2.0000,  1.0000],\n",
            "        [25.0000,  1.0000, 50.5494,  2.0000,  1.0000],\n",
            "        [64.0000,  1.0000, 42.0746,  0.0000,  0.0000],\n",
            "        [48.0000,  1.0000, 27.1062,  0.0000,  1.0000],\n",
            "        [48.0000,  0.0000, 40.5983,  0.0000,  0.0000],\n",
            "        [43.0000,  1.0000, 36.1860,  2.0000,  0.0000],\n",
            "        [56.0000,  1.0000, 37.3293,  0.0000,  1.0000],\n",
            "        [50.0000,  1.0000, 35.8530,  2.0000,  0.0000],\n",
            "        [64.0000,  0.0000, 37.5180,  1.0000,  1.0000],\n",
            "        [64.0000,  0.0000, 36.5911,  0.0000,  0.0000],\n",
            "        [29.0000,  1.0000, 32.1623,  1.0000,  0.0000],\n",
            "        [51.0000,  1.0000, 47.6190,  2.0000,  1.0000],\n",
            "        [27.0000,  0.0000, 27.9443,  0.0000,  0.0000],\n",
            "        [25.0000,  1.0000, 29.6315,  4.0000,  0.0000],\n",
            "        [63.0000,  0.0000, 29.1042,  0.0000,  0.0000],\n",
            "        [42.0000,  0.0000, 32.7228,  2.0000,  0.0000],\n",
            "        [28.0000,  1.0000, 29.9478,  2.0000,  0.0000],\n",
            "        [59.0000,  1.0000, 31.9513,  0.0000,  0.0000],\n",
            "        [31.0000,  1.0000, 34.2713,  0.0000,  0.0000],\n",
            "        [60.0000,  1.0000, 34.7985,  3.0000,  1.0000],\n",
            "        [34.0000,  1.0000, 28.0497,  1.0000,  0.0000],\n",
            "        [42.0000,  1.0000, 28.9377,  1.0000,  1.0000],\n",
            "        [39.0000,  1.0000, 27.2061,  2.0000,  0.0000],\n",
            "        [21.0000,  0.0000, 36.2748,  2.0000,  0.0000],\n",
            "        [52.0000,  0.0000, 41.5140,  0.0000,  0.0000]])\n",
            "targets: tensor([[12589.5332],\n",
            "        [ 8252.7031],\n",
            "        [13745.7783],\n",
            "        [12307.1338],\n",
            "        [ 5590.0396],\n",
            "        [35081.9961],\n",
            "        [38310.9648],\n",
            "        [ 9133.7676],\n",
            "        [49396.3555],\n",
            "        [ 5927.8311],\n",
            "        [24006.2734],\n",
            "        [34043.5547],\n",
            "        [ 6229.1045],\n",
            "        [13134.3320],\n",
            "        [43595.8594],\n",
            "        [46368.8750],\n",
            "        [ 6610.5215],\n",
            "        [ 1181.8553],\n",
            "        [20508.4824],\n",
            "        [40558.4883],\n",
            "        [ 3546.7371],\n",
            "        [ 2836.4910],\n",
            "        [ 5703.8462],\n",
            "        [ 3699.1992],\n",
            "        [13500.5996],\n",
            "        [ 9549.4570],\n",
            "        [13753.0195],\n",
            "        [ 2797.7183],\n",
            "        [ 3911.7437],\n",
            "        [ 6533.5244],\n",
            "        [ 5417.9619],\n",
            "        [16236.6807],\n",
            "        [14541.1240],\n",
            "        [ 8407.2764],\n",
            "        [ 1195.3717],\n",
            "        [30023.4102],\n",
            "        [ 6325.7012],\n",
            "        [11166.3457],\n",
            "        [31470.3945],\n",
            "        [ 3501.3364],\n",
            "        [ 5229.2725],\n",
            "        [28119.4297],\n",
            "        [26537.7988],\n",
            "        [13989.1670],\n",
            "        [ 2817.4763],\n",
            "        [ 4632.5786],\n",
            "        [ 4606.0435],\n",
            "        [ 1953.0466],\n",
            "        [11525.8799],\n",
            "        [15154.7666],\n",
            "        [45566.4219],\n",
            "        [ 6566.3096],\n",
            "        [ 2344.9885],\n",
            "        [ 7327.3188],\n",
            "        [ 7838.6504],\n",
            "        [25071.1895],\n",
            "        [15033.8701],\n",
            "        [ 4611.2725],\n",
            "        [ 3640.6367],\n",
            "        [66321.2422],\n",
            "        [ 1291.2275],\n",
            "        [16728.5332],\n",
            "        [ 2220.2976],\n",
            "        [ 6714.0972],\n",
            "        [14442.6924],\n",
            "        [ 6670.7451],\n",
            "        [ 8746.4482],\n",
            "        [ 8950.4658],\n",
            "        [ 7446.7437],\n",
            "        [15606.8428],\n",
            "        [ 6760.2451],\n",
            "        [ 7484.7417],\n",
            "        [ 1749.9009],\n",
            "        [ 3580.7866],\n",
            "        [12526.1152],\n",
            "        [47958.0508],\n",
            "        [ 2291.6108],\n",
            "        [27447.9512],\n",
            "        [11379.8174],\n",
            "        [25493.6152],\n",
            "        [ 4315.7256],\n",
            "        [ 2088.2627],\n",
            "        [ 3723.0217],\n",
            "        [34814.8516],\n",
            "        [28307.1738],\n",
            "        [ 6211.2729],\n",
            "        [ 1800.9441],\n",
            "        [ 7110.8633],\n",
            "        [25455.5371],\n",
            "        [11596.8115],\n",
            "        [ 5354.4946],\n",
            "        [27153.7031],\n",
            "        [ 3093.0911],\n",
            "        [ 7332.6675],\n",
            "        [ 7264.9272],\n",
            "        [ 1181.3783],\n",
            "        [ 8667.8359],\n",
            "        [ 8889.5986],\n",
            "        [41311.6562],\n",
            "        [12205.3145],\n",
            "        [12974.3652],\n",
            "        [10982.9111],\n",
            "        [37595.4609],\n",
            "        [44470.9219],\n",
            "        [43796.7266],\n",
            "        [14778.9570],\n",
            "        [22072.6230],\n",
            "        [ 9018.0391],\n",
            "        [ 7739.1611],\n",
            "        [45678.0312],\n",
            "        [10015.6133],\n",
            "        [49845.1523],\n",
            "        [15280.3760],\n",
            "        [ 4202.1807],\n",
            "        [49361.4102],\n",
            "        [ 3700.9651],\n",
            "        [ 5073.1001],\n",
            "        [14826.4404],\n",
            "        [ 7945.9214],\n",
            "        [ 4612.4980],\n",
            "        [12614.7988],\n",
            "        [ 4012.0696],\n",
            "        [47975.7461],\n",
            "        [ 5090.5435],\n",
            "        [39775.4180],\n",
            "        [ 6978.5996],\n",
            "        [27059.7090],\n",
            "        [10019.9199]])\n"
          ],
          "name": "stdout"
        }
      ]
    },
    {
      "cell_type": "code",
      "metadata": {
        "id": "lbLKNpMYGwJT",
        "colab_type": "code",
        "colab": {
          "base_uri": "https://localhost:8080/",
          "height": 51
        },
        "outputId": "877ead67-394d-4520-a8cc-116af25f35c6"
      },
      "source": [
        "input_size = len(input_cols)\n",
        "print(input_size)\n",
        "output_size = len(output_cols)\n",
        "print(output_size)"
      ],
      "execution_count": 113,
      "outputs": [
        {
          "output_type": "stream",
          "text": [
            "5\n",
            "1\n"
          ],
          "name": "stdout"
        }
      ]
    },
    {
      "cell_type": "code",
      "metadata": {
        "id": "xMO1RO2QG3sX",
        "colab_type": "code",
        "colab": {}
      },
      "source": [
        "class InsuranceModel(nn.Module):\n",
        "    def __init__(self):\n",
        "        super().__init__()\n",
        "        self.linear = nn.Linear(input_size, output_size) # fill this (hint: use input_size & output_size defined above)\n",
        "        \n",
        "    def forward(self, xb):\n",
        "        out = self.linear(xb)                          # fill this\n",
        "        return out\n",
        "    \n",
        "    def training_step(self, batch):\n",
        "        inputs, targets = batch \n",
        "        # Generate predictions\n",
        "        out = self(inputs)          \n",
        "        # Calcuate loss\n",
        "        loss = F.l1_loss(out, targets)                # fill this\n",
        "        return loss\n",
        "    \n",
        "    def validation_step(self, batch):\n",
        "        inputs, targets = batch\n",
        "        # Generate predictions\n",
        "        out = self(inputs)\n",
        "        # Calculate loss\n",
        "        loss = F.l1_loss(out, targets)                           # fill this    \n",
        "        return {'val_loss': loss.detach()}\n",
        "        \n",
        "    def validation_epoch_end(self, outputs):\n",
        "        batch_losses = [x['val_loss'] for x in outputs]\n",
        "        epoch_loss = torch.stack(batch_losses).mean()   # Combine losses\n",
        "        return {'val_loss': epoch_loss.item()}\n",
        "    \n",
        "    def epoch_end(self, epoch, result, num_epochs):\n",
        "        # Print result every 20th epoch\n",
        "        if (epoch+1) % 20 == 0 or epoch == num_epochs-1:\n",
        "            print(\"Epoch [{}], val_loss: {:.4f}\".format(epoch+1, result['val_loss']))"
      ],
      "execution_count": 0,
      "outputs": []
    },
    {
      "cell_type": "code",
      "metadata": {
        "id": "KyirDeK4K_wi",
        "colab_type": "code",
        "colab": {}
      },
      "source": [
        "model = InsuranceModel()"
      ],
      "execution_count": 0,
      "outputs": []
    },
    {
      "cell_type": "code",
      "metadata": {
        "id": "J-4yjhF9LCz3",
        "colab_type": "code",
        "colab": {
          "base_uri": "https://localhost:8080/",
          "height": 86
        },
        "outputId": "a30415fc-376e-48c4-ff7a-e1eaa6d86b64"
      },
      "source": [
        "list(model.parameters())"
      ],
      "execution_count": 138,
      "outputs": [
        {
          "output_type": "execute_result",
          "data": {
            "text/plain": [
              "[Parameter containing:\n",
              " tensor([[ 0.3727, -0.2155,  0.1890,  0.3767,  0.0774]], requires_grad=True),\n",
              " Parameter containing:\n",
              " tensor([-0.0557], requires_grad=True)]"
            ]
          },
          "metadata": {
            "tags": []
          },
          "execution_count": 138
        }
      ]
    },
    {
      "cell_type": "code",
      "metadata": {
        "id": "HIjbymILLERM",
        "colab_type": "code",
        "colab": {}
      },
      "source": [
        "def evaluate(model, val_loader):\n",
        "    outputs = [model.validation_step(batch) for batch in val_loader]\n",
        "    return model.validation_epoch_end(outputs)\n",
        "\n",
        "def fit(epochs, lr, model, train_loader, val_loader, opt_func=torch.optim.SGD):\n",
        "    history = []\n",
        "    optimizer = opt_func(model.parameters(), lr)\n",
        "    for epoch in range(epochs):\n",
        "        # Training Phase \n",
        "        for batch in train_loader:\n",
        "            loss = model.training_step(batch)\n",
        "            loss.backward()\n",
        "            optimizer.step()\n",
        "            optimizer.zero_grad()\n",
        "        # Validation phase\n",
        "        result = evaluate(model, val_loader)\n",
        "        model.epoch_end(epoch, result, epochs)\n",
        "        history.append(result)\n",
        "    return history"
      ],
      "execution_count": 0,
      "outputs": []
    },
    {
      "cell_type": "code",
      "metadata": {
        "id": "Bc0DLmRKLJeL",
        "colab_type": "code",
        "colab": {
          "base_uri": "https://localhost:8080/",
          "height": 34
        },
        "outputId": "e33ced6c-3a43-49b7-cf7c-c37e4abe7eea"
      },
      "source": [
        "result = evaluate(model, val_loader) # Use the the evaluate function\n",
        "print(result)"
      ],
      "execution_count": 140,
      "outputs": [
        {
          "output_type": "stream",
          "text": [
            "{'val_loss': 12234.7265625}\n"
          ],
          "name": "stdout"
        }
      ]
    },
    {
      "cell_type": "code",
      "metadata": {
        "id": "SI3JpWqjLc06",
        "colab_type": "code",
        "colab": {
          "base_uri": "https://localhost:8080/",
          "height": 34
        },
        "outputId": "36e7ec73-fa36-40f5-c47e-18875ed256fa"
      },
      "source": [
        "epochs = 10\n",
        "lr = 1e-3\n",
        "history1 = fit(epochs, lr, model, train_loader, val_loader)"
      ],
      "execution_count": 141,
      "outputs": [
        {
          "output_type": "stream",
          "text": [
            "Epoch [10], val_loss: 11990.6357\n"
          ],
          "name": "stdout"
        }
      ]
    },
    {
      "cell_type": "code",
      "metadata": {
        "id": "uKEu5vYfLcXr",
        "colab_type": "code",
        "colab": {
          "base_uri": "https://localhost:8080/",
          "height": 34
        },
        "outputId": "e8336436-c6bc-4490-a1e6-e8b07c46e9d4"
      },
      "source": [
        "epochs = 10\n",
        "lr = 1e-4\n",
        "history2 = fit(epochs, lr, model, train_loader, val_loader)"
      ],
      "execution_count": 142,
      "outputs": [
        {
          "output_type": "stream",
          "text": [
            "Epoch [10], val_loss: 11966.2207\n"
          ],
          "name": "stdout"
        }
      ]
    },
    {
      "cell_type": "code",
      "metadata": {
        "id": "8RRG3dTLLb_i",
        "colab_type": "code",
        "colab": {
          "base_uri": "https://localhost:8080/",
          "height": 34
        },
        "outputId": "cc91715c-332d-426e-ca6c-58212be35a40"
      },
      "source": [
        "epochs = 15\n",
        "lr = 1e-3\n",
        "history3 = fit(epochs, lr, model, train_loader, val_loader)"
      ],
      "execution_count": 143,
      "outputs": [
        {
          "output_type": "stream",
          "text": [
            "Epoch [15], val_loss: 11600.1260\n"
          ],
          "name": "stdout"
        }
      ]
    },
    {
      "cell_type": "code",
      "metadata": {
        "id": "hYTnxFM4LbaV",
        "colab_type": "code",
        "colab": {
          "base_uri": "https://localhost:8080/",
          "height": 34
        },
        "outputId": "6fc2d605-2670-4bf5-ae0e-83cb8001d83e"
      },
      "source": [
        "epochs = 20\n",
        "lr = 1e-4\n",
        "history4 = fit(epochs, lr, model, train_loader, val_loader)"
      ],
      "execution_count": 144,
      "outputs": [
        {
          "output_type": "stream",
          "text": [
            "Epoch [20], val_loss: 11551.3115\n"
          ],
          "name": "stdout"
        }
      ]
    },
    {
      "cell_type": "code",
      "metadata": {
        "id": "g1o787M3LSs2",
        "colab_type": "code",
        "colab": {
          "base_uri": "https://localhost:8080/",
          "height": 34
        },
        "outputId": "777c34de-40b4-4854-a9b5-b72c9254e374"
      },
      "source": [
        "epochs = 20\n",
        "lr = 5e-7\n",
        "history5 = fit(epochs, lr, model, train_loader, val_loader)"
      ],
      "execution_count": 145,
      "outputs": [
        {
          "output_type": "stream",
          "text": [
            "Epoch [20], val_loss: 11551.0664\n"
          ],
          "name": "stdout"
        }
      ]
    },
    {
      "cell_type": "code",
      "metadata": {
        "id": "Ufx9w7y3MsfW",
        "colab_type": "code",
        "colab": {}
      },
      "source": [
        "def predict_single(input, target, model):\n",
        "    inputs = input.unsqueeze(0)\n",
        "    predictions = model(inputs)                # fill this\n",
        "    prediction = predictions[0].detach()\n",
        "    print(\"Input:\", input)\n",
        "    print(\"Target:\", target)\n",
        "    print(\"Prediction:\", prediction)"
      ],
      "execution_count": 0,
      "outputs": []
    },
    {
      "cell_type": "code",
      "metadata": {
        "id": "3J4eQsGcM07F",
        "colab_type": "code",
        "colab": {
          "base_uri": "https://localhost:8080/",
          "height": 69
        },
        "outputId": "415660f7-547d-478e-971a-1c8fdb2b9ac5"
      },
      "source": [
        "input, target = val_ds[0]\n",
        "predict_single(input, target, model)"
      ],
      "execution_count": 127,
      "outputs": [
        {
          "output_type": "stream",
          "text": [
            "Input: tensor([58.0000,  0.0000, 40.4928,  0.0000,  0.0000])\n",
            "Target: tensor([12725.2725])\n",
            "Prediction: tensor([940.0260])\n"
          ],
          "name": "stdout"
        }
      ]
    },
    {
      "cell_type": "code",
      "metadata": {
        "id": "0WV1FzosM3or",
        "colab_type": "code",
        "colab": {
          "base_uri": "https://localhost:8080/",
          "height": 69
        },
        "outputId": "d2428f54-d9c7-4850-9f72-a0ee82e19eb5"
      },
      "source": [
        "input, target = val_ds[10]\n",
        "predict_single(input, target, model)"
      ],
      "execution_count": 128,
      "outputs": [
        {
          "output_type": "stream",
          "text": [
            "Input: tensor([46.0000,  0.0000, 34.1880,  3.0000,  0.0000])\n",
            "Target: tensor([9791.5166])\n",
            "Prediction: tensor([764.4180])\n"
          ],
          "name": "stdout"
        }
      ]
    },
    {
      "cell_type": "code",
      "metadata": {
        "id": "0GL0BUqNNJBF",
        "colab_type": "code",
        "colab": {}
      },
      "source": [
        ""
      ],
      "execution_count": 0,
      "outputs": []
    }
  ]
}