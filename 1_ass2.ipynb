{
  "nbformat": 4,
  "nbformat_minor": 0,
  "metadata": {
    "colab": {
      "name": "Untitled0.ipynb",
      "provenance": []
    },
    "kernelspec": {
      "name": "python3",
      "display_name": "Python 3"
    },
    "accelerator": "GPU",
    "widgets": {
      "application/vnd.jupyter.widget-state+json": {
        "c7a50521d224431ea9bcc3f3b3da95b6": {
          "model_module": "@jupyter-widgets/controls",
          "model_name": "HBoxModel",
          "state": {
            "_view_name": "HBoxView",
            "_dom_classes": [],
            "_model_name": "HBoxModel",
            "_view_module": "@jupyter-widgets/controls",
            "_model_module_version": "1.5.0",
            "_view_count": null,
            "_view_module_version": "1.5.0",
            "box_style": "",
            "layout": "IPY_MODEL_6e81cac6e41d4e37a447567e097d1239",
            "_model_module": "@jupyter-widgets/controls",
            "children": [
              "IPY_MODEL_9bf821f6f9aa424683257a481d530d75",
              "IPY_MODEL_d44e11a548504be399e537b5c5b6f4db"
            ]
          }
        },
        "6e81cac6e41d4e37a447567e097d1239": {
          "model_module": "@jupyter-widgets/base",
          "model_name": "LayoutModel",
          "state": {
            "_view_name": "LayoutView",
            "grid_template_rows": null,
            "right": null,
            "justify_content": null,
            "_view_module": "@jupyter-widgets/base",
            "overflow": null,
            "_model_module_version": "1.2.0",
            "_view_count": null,
            "flex_flow": null,
            "width": null,
            "min_width": null,
            "border": null,
            "align_items": null,
            "bottom": null,
            "_model_module": "@jupyter-widgets/base",
            "top": null,
            "grid_column": null,
            "overflow_y": null,
            "overflow_x": null,
            "grid_auto_flow": null,
            "grid_area": null,
            "grid_template_columns": null,
            "flex": null,
            "_model_name": "LayoutModel",
            "justify_items": null,
            "grid_row": null,
            "max_height": null,
            "align_content": null,
            "visibility": null,
            "align_self": null,
            "height": null,
            "min_height": null,
            "padding": null,
            "grid_auto_rows": null,
            "grid_gap": null,
            "max_width": null,
            "order": null,
            "_view_module_version": "1.2.0",
            "grid_template_areas": null,
            "object_position": null,
            "object_fit": null,
            "grid_auto_columns": null,
            "margin": null,
            "display": null,
            "left": null
          }
        },
        "9bf821f6f9aa424683257a481d530d75": {
          "model_module": "@jupyter-widgets/controls",
          "model_name": "FloatProgressModel",
          "state": {
            "_view_name": "ProgressView",
            "style": "IPY_MODEL_ef84e636588e4f0e885ace3b00d8e6cc",
            "_dom_classes": [],
            "description": "",
            "_model_name": "FloatProgressModel",
            "bar_style": "info",
            "max": 1,
            "_view_module": "@jupyter-widgets/controls",
            "_model_module_version": "1.5.0",
            "value": 1,
            "_view_count": null,
            "_view_module_version": "1.5.0",
            "orientation": "horizontal",
            "min": 0,
            "description_tooltip": null,
            "_model_module": "@jupyter-widgets/controls",
            "layout": "IPY_MODEL_43ec98fd1c794b58b34724a3538ac984"
          }
        },
        "d44e11a548504be399e537b5c5b6f4db": {
          "model_module": "@jupyter-widgets/controls",
          "model_name": "HTMLModel",
          "state": {
            "_view_name": "HTMLView",
            "style": "IPY_MODEL_7e50013faa084cc68247231eb081f13c",
            "_dom_classes": [],
            "description": "",
            "_model_name": "HTMLModel",
            "placeholder": "​",
            "_view_module": "@jupyter-widgets/controls",
            "_model_module_version": "1.5.0",
            "value": " 57344/? [00:19&lt;00:00, 136924.80it/s]",
            "_view_count": null,
            "_view_module_version": "1.5.0",
            "description_tooltip": null,
            "_model_module": "@jupyter-widgets/controls",
            "layout": "IPY_MODEL_79206e90faa141f8904f1b71abd3f54f"
          }
        },
        "ef84e636588e4f0e885ace3b00d8e6cc": {
          "model_module": "@jupyter-widgets/controls",
          "model_name": "ProgressStyleModel",
          "state": {
            "_view_name": "StyleView",
            "_model_name": "ProgressStyleModel",
            "description_width": "initial",
            "_view_module": "@jupyter-widgets/base",
            "_model_module_version": "1.5.0",
            "_view_count": null,
            "_view_module_version": "1.2.0",
            "bar_color": null,
            "_model_module": "@jupyter-widgets/controls"
          }
        },
        "43ec98fd1c794b58b34724a3538ac984": {
          "model_module": "@jupyter-widgets/base",
          "model_name": "LayoutModel",
          "state": {
            "_view_name": "LayoutView",
            "grid_template_rows": null,
            "right": null,
            "justify_content": null,
            "_view_module": "@jupyter-widgets/base",
            "overflow": null,
            "_model_module_version": "1.2.0",
            "_view_count": null,
            "flex_flow": null,
            "width": null,
            "min_width": null,
            "border": null,
            "align_items": null,
            "bottom": null,
            "_model_module": "@jupyter-widgets/base",
            "top": null,
            "grid_column": null,
            "overflow_y": null,
            "overflow_x": null,
            "grid_auto_flow": null,
            "grid_area": null,
            "grid_template_columns": null,
            "flex": null,
            "_model_name": "LayoutModel",
            "justify_items": null,
            "grid_row": null,
            "max_height": null,
            "align_content": null,
            "visibility": null,
            "align_self": null,
            "height": null,
            "min_height": null,
            "padding": null,
            "grid_auto_rows": null,
            "grid_gap": null,
            "max_width": null,
            "order": null,
            "_view_module_version": "1.2.0",
            "grid_template_areas": null,
            "object_position": null,
            "object_fit": null,
            "grid_auto_columns": null,
            "margin": null,
            "display": null,
            "left": null
          }
        },
        "7e50013faa084cc68247231eb081f13c": {
          "model_module": "@jupyter-widgets/controls",
          "model_name": "DescriptionStyleModel",
          "state": {
            "_view_name": "StyleView",
            "_model_name": "DescriptionStyleModel",
            "description_width": "",
            "_view_module": "@jupyter-widgets/base",
            "_model_module_version": "1.5.0",
            "_view_count": null,
            "_view_module_version": "1.2.0",
            "_model_module": "@jupyter-widgets/controls"
          }
        },
        "79206e90faa141f8904f1b71abd3f54f": {
          "model_module": "@jupyter-widgets/base",
          "model_name": "LayoutModel",
          "state": {
            "_view_name": "LayoutView",
            "grid_template_rows": null,
            "right": null,
            "justify_content": null,
            "_view_module": "@jupyter-widgets/base",
            "overflow": null,
            "_model_module_version": "1.2.0",
            "_view_count": null,
            "flex_flow": null,
            "width": null,
            "min_width": null,
            "border": null,
            "align_items": null,
            "bottom": null,
            "_model_module": "@jupyter-widgets/base",
            "top": null,
            "grid_column": null,
            "overflow_y": null,
            "overflow_x": null,
            "grid_auto_flow": null,
            "grid_area": null,
            "grid_template_columns": null,
            "flex": null,
            "_model_name": "LayoutModel",
            "justify_items": null,
            "grid_row": null,
            "max_height": null,
            "align_content": null,
            "visibility": null,
            "align_self": null,
            "height": null,
            "min_height": null,
            "padding": null,
            "grid_auto_rows": null,
            "grid_gap": null,
            "max_width": null,
            "order": null,
            "_view_module_version": "1.2.0",
            "grid_template_areas": null,
            "object_position": null,
            "object_fit": null,
            "grid_auto_columns": null,
            "margin": null,
            "display": null,
            "left": null
          }
        }
      }
    }
  },
  "cells": [
    {
      "cell_type": "code",
      "metadata": {
        "id": "UDtCjGsrIt_V",
        "colab_type": "code",
        "colab": {}
      },
      "source": [
        "import torch\n",
        "import torchvision\n",
        "import torch.nn as nn\n",
        "import pandas as pd\n",
        "import matplotlib.pyplot as plt\n",
        "import torch.nn.functional as F\n",
        "from torchvision.datasets.utils import download_url\n",
        "from torch.utils.data import DataLoader, TensorDataset, random_split"
      ],
      "execution_count": 0,
      "outputs": []
    },
    {
      "cell_type": "code",
      "metadata": {
        "id": "wzgx0FC9I0PA",
        "colab_type": "code",
        "colab": {
          "base_uri": "https://localhost:8080/",
          "height": 66,
          "referenced_widgets": [
            "c7a50521d224431ea9bcc3f3b3da95b6",
            "6e81cac6e41d4e37a447567e097d1239",
            "9bf821f6f9aa424683257a481d530d75",
            "d44e11a548504be399e537b5c5b6f4db",
            "ef84e636588e4f0e885ace3b00d8e6cc",
            "43ec98fd1c794b58b34724a3538ac984",
            "7e50013faa084cc68247231eb081f13c",
            "79206e90faa141f8904f1b71abd3f54f"
          ]
        },
        "outputId": "25afbbfa-db5a-498d-f089-a329e395cb3a"
      },
      "source": [
        "DATASET_URL = \"https://hub.jovian.ml/wp-content/uploads/2020/05/insurance.csv\"\n",
        "DATA_FILENAME = \"insurance.csv\"\n",
        "download_url(DATASET_URL, '.')"
      ],
      "execution_count": 2,
      "outputs": [
        {
          "output_type": "stream",
          "text": [
            "Downloading https://hub.jovian.ml/wp-content/uploads/2020/05/insurance.csv to ./insurance.csv\n"
          ],
          "name": "stdout"
        },
        {
          "output_type": "display_data",
          "data": {
            "application/vnd.jupyter.widget-view+json": {
              "model_id": "c7a50521d224431ea9bcc3f3b3da95b6",
              "version_minor": 0,
              "version_major": 2
            },
            "text/plain": [
              "HBox(children=(FloatProgress(value=1.0, bar_style='info', max=1.0), HTML(value='')))"
            ]
          },
          "metadata": {
            "tags": []
          }
        }
      ]
    },
    {
      "cell_type": "code",
      "metadata": {
        "id": "Exh-hUl4I7lW",
        "colab_type": "code",
        "colab": {
          "base_uri": "https://localhost:8080/",
          "height": 198
        },
        "outputId": "183afa96-ce93-4911-aaba-a27a08f04a2b"
      },
      "source": [
        "dataframe_raw = pd.read_csv(DATA_FILENAME)\n",
        "dataframe_raw.head()"
      ],
      "execution_count": 3,
      "outputs": [
        {
          "output_type": "execute_result",
          "data": {
            "text/html": [
              "<div>\n",
              "<style scoped>\n",
              "    .dataframe tbody tr th:only-of-type {\n",
              "        vertical-align: middle;\n",
              "    }\n",
              "\n",
              "    .dataframe tbody tr th {\n",
              "        vertical-align: top;\n",
              "    }\n",
              "\n",
              "    .dataframe thead th {\n",
              "        text-align: right;\n",
              "    }\n",
              "</style>\n",
              "<table border=\"1\" class=\"dataframe\">\n",
              "  <thead>\n",
              "    <tr style=\"text-align: right;\">\n",
              "      <th></th>\n",
              "      <th>age</th>\n",
              "      <th>sex</th>\n",
              "      <th>bmi</th>\n",
              "      <th>children</th>\n",
              "      <th>smoker</th>\n",
              "      <th>region</th>\n",
              "      <th>charges</th>\n",
              "    </tr>\n",
              "  </thead>\n",
              "  <tbody>\n",
              "    <tr>\n",
              "      <th>0</th>\n",
              "      <td>19</td>\n",
              "      <td>female</td>\n",
              "      <td>27.900</td>\n",
              "      <td>0</td>\n",
              "      <td>yes</td>\n",
              "      <td>southwest</td>\n",
              "      <td>16884.92400</td>\n",
              "    </tr>\n",
              "    <tr>\n",
              "      <th>1</th>\n",
              "      <td>18</td>\n",
              "      <td>male</td>\n",
              "      <td>33.770</td>\n",
              "      <td>1</td>\n",
              "      <td>no</td>\n",
              "      <td>southeast</td>\n",
              "      <td>1725.55230</td>\n",
              "    </tr>\n",
              "    <tr>\n",
              "      <th>2</th>\n",
              "      <td>28</td>\n",
              "      <td>male</td>\n",
              "      <td>33.000</td>\n",
              "      <td>3</td>\n",
              "      <td>no</td>\n",
              "      <td>southeast</td>\n",
              "      <td>4449.46200</td>\n",
              "    </tr>\n",
              "    <tr>\n",
              "      <th>3</th>\n",
              "      <td>33</td>\n",
              "      <td>male</td>\n",
              "      <td>22.705</td>\n",
              "      <td>0</td>\n",
              "      <td>no</td>\n",
              "      <td>northwest</td>\n",
              "      <td>21984.47061</td>\n",
              "    </tr>\n",
              "    <tr>\n",
              "      <th>4</th>\n",
              "      <td>32</td>\n",
              "      <td>male</td>\n",
              "      <td>28.880</td>\n",
              "      <td>0</td>\n",
              "      <td>no</td>\n",
              "      <td>northwest</td>\n",
              "      <td>3866.85520</td>\n",
              "    </tr>\n",
              "  </tbody>\n",
              "</table>\n",
              "</div>"
            ],
            "text/plain": [
              "   age     sex     bmi  children smoker     region      charges\n",
              "0   19  female  27.900         0    yes  southwest  16884.92400\n",
              "1   18    male  33.770         1     no  southeast   1725.55230\n",
              "2   28    male  33.000         3     no  southeast   4449.46200\n",
              "3   33    male  22.705         0     no  northwest  21984.47061\n",
              "4   32    male  28.880         0     no  northwest   3866.85520"
            ]
          },
          "metadata": {
            "tags": []
          },
          "execution_count": 3
        }
      ]
    },
    {
      "cell_type": "code",
      "metadata": {
        "id": "_tLnNakfJDmZ",
        "colab_type": "code",
        "colab": {}
      },
      "source": [
        "your_name = 'Rohit'"
      ],
      "execution_count": 0,
      "outputs": []
    },
    {
      "cell_type": "code",
      "metadata": {
        "id": "Vwu8IDmjJWJI",
        "colab_type": "code",
        "colab": {}
      },
      "source": [
        "def customize_dataset(dataframe_raw, rand_str):\n",
        "    dataframe = dataframe_raw.copy(deep=True)\n",
        "    # drop some rows\n",
        "    dataframe = dataframe.sample(int(0.95*len(dataframe)), random_state=int(ord(rand_str[0])))\n",
        "    # scale input\n",
        "    dataframe.bmi = dataframe.bmi * ord(rand_str[1])/100.\n",
        "    # scale target\n",
        "    dataframe.charges = dataframe.charges * ord(rand_str[2])/100.\n",
        "    # drop column\n",
        "    if ord(rand_str[3]) % 2 == 1:\n",
        "        dataframe = dataframe.drop(['region'], axis=1)\n",
        "    return dataframe"
      ],
      "execution_count": 0,
      "outputs": []
    },
    {
      "cell_type": "code",
      "metadata": {
        "id": "1Kaz6o5rJZ-j",
        "colab_type": "code",
        "colab": {
          "base_uri": "https://localhost:8080/",
          "height": 198
        },
        "outputId": "12859fae-01f1-436d-a2e5-c27f96e50f83"
      },
      "source": [
        "dataframe = customize_dataset(dataframe_raw, your_name)\n",
        "dataframe.head()"
      ],
      "execution_count": 15,
      "outputs": [
        {
          "output_type": "execute_result",
          "data": {
            "text/html": [
              "<div>\n",
              "<style scoped>\n",
              "    .dataframe tbody tr th:only-of-type {\n",
              "        vertical-align: middle;\n",
              "    }\n",
              "\n",
              "    .dataframe tbody tr th {\n",
              "        vertical-align: top;\n",
              "    }\n",
              "\n",
              "    .dataframe thead th {\n",
              "        text-align: right;\n",
              "    }\n",
              "</style>\n",
              "<table border=\"1\" class=\"dataframe\">\n",
              "  <thead>\n",
              "    <tr style=\"text-align: right;\">\n",
              "      <th></th>\n",
              "      <th>age</th>\n",
              "      <th>sex</th>\n",
              "      <th>bmi</th>\n",
              "      <th>children</th>\n",
              "      <th>smoker</th>\n",
              "      <th>charges</th>\n",
              "    </tr>\n",
              "  </thead>\n",
              "  <tbody>\n",
              "    <tr>\n",
              "      <th>457</th>\n",
              "      <td>57</td>\n",
              "      <td>female</td>\n",
              "      <td>33.84945</td>\n",
              "      <td>0</td>\n",
              "      <td>no</td>\n",
              "      <td>12314.406052</td>\n",
              "    </tr>\n",
              "    <tr>\n",
              "      <th>1050</th>\n",
              "      <td>44</td>\n",
              "      <td>female</td>\n",
              "      <td>41.02005</td>\n",
              "      <td>1</td>\n",
              "      <td>no</td>\n",
              "      <td>8344.060868</td>\n",
              "    </tr>\n",
              "    <tr>\n",
              "      <th>56</th>\n",
              "      <td>58</td>\n",
              "      <td>female</td>\n",
              "      <td>35.32575</td>\n",
              "      <td>2</td>\n",
              "      <td>no</td>\n",
              "      <td>14151.663500</td>\n",
              "    </tr>\n",
              "    <tr>\n",
              "      <th>311</th>\n",
              "      <td>19</td>\n",
              "      <td>female</td>\n",
              "      <td>27.41700</td>\n",
              "      <td>0</td>\n",
              "      <td>no</td>\n",
              "      <td>1806.871040</td>\n",
              "    </tr>\n",
              "    <tr>\n",
              "      <th>1288</th>\n",
              "      <td>20</td>\n",
              "      <td>male</td>\n",
              "      <td>43.73400</td>\n",
              "      <td>2</td>\n",
              "      <td>yes</td>\n",
              "      <td>39878.348640</td>\n",
              "    </tr>\n",
              "  </tbody>\n",
              "</table>\n",
              "</div>"
            ],
            "text/plain": [
              "      age     sex       bmi  children smoker       charges\n",
              "457    57  female  33.84945         0     no  12314.406052\n",
              "1050   44  female  41.02005         1     no   8344.060868\n",
              "56     58  female  35.32575         2     no  14151.663500\n",
              "311    19  female  27.41700         0     no   1806.871040\n",
              "1288   20    male  43.73400         2    yes  39878.348640"
            ]
          },
          "metadata": {
            "tags": []
          },
          "execution_count": 15
        }
      ]
    },
    {
      "cell_type": "code",
      "metadata": {
        "id": "fHoVA_PtJcsc",
        "colab_type": "code",
        "colab": {
          "base_uri": "https://localhost:8080/",
          "height": 34
        },
        "outputId": "4d6d93b6-85e3-4c92-d7ba-39da8366fd52"
      },
      "source": [
        "dataframe.shape"
      ],
      "execution_count": 16,
      "outputs": [
        {
          "output_type": "execute_result",
          "data": {
            "text/plain": [
              "(1271, 6)"
            ]
          },
          "metadata": {
            "tags": []
          },
          "execution_count": 16
        }
      ]
    },
    {
      "cell_type": "code",
      "metadata": {
        "id": "FoQ5iCAIJriV",
        "colab_type": "code",
        "colab": {
          "base_uri": "https://localhost:8080/",
          "height": 34
        },
        "outputId": "0c06db07-3fe9-47cd-f823-8dacd0c9e828"
      },
      "source": [
        "num_rows = dataframe.shape[0]\n",
        "num_rows"
      ],
      "execution_count": 17,
      "outputs": [
        {
          "output_type": "execute_result",
          "data": {
            "text/plain": [
              "1271"
            ]
          },
          "metadata": {
            "tags": []
          },
          "execution_count": 17
        }
      ]
    },
    {
      "cell_type": "code",
      "metadata": {
        "id": "YbQpwnL_KBAq",
        "colab_type": "code",
        "colab": {
          "base_uri": "https://localhost:8080/",
          "height": 34
        },
        "outputId": "6f5f26d3-6b41-41dc-e62d-5aa1dc3c5c1c"
      },
      "source": [
        "num_cols = dataframe.shape[1]\n",
        "num_cols"
      ],
      "execution_count": 18,
      "outputs": [
        {
          "output_type": "execute_result",
          "data": {
            "text/plain": [
              "6"
            ]
          },
          "metadata": {
            "tags": []
          },
          "execution_count": 18
        }
      ]
    },
    {
      "cell_type": "code",
      "metadata": {
        "id": "1GLA7RqiKJaq",
        "colab_type": "code",
        "colab": {
          "base_uri": "https://localhost:8080/",
          "height": 34
        },
        "outputId": "ca010008-a5fc-4240-96bd-4ceb0c41553f"
      },
      "source": [
        "input_cols = list(dataframe.drop('charges',axis =1))\n",
        "input_cols"
      ],
      "execution_count": 19,
      "outputs": [
        {
          "output_type": "execute_result",
          "data": {
            "text/plain": [
              "['age', 'sex', 'bmi', 'children', 'smoker']"
            ]
          },
          "metadata": {
            "tags": []
          },
          "execution_count": 19
        }
      ]
    },
    {
      "cell_type": "code",
      "metadata": {
        "id": "x7DFQjwCKOx_",
        "colab_type": "code",
        "colab": {
          "base_uri": "https://localhost:8080/",
          "height": 34
        },
        "outputId": "62d4809b-d914-4601-deee-9a33fcb82c1c"
      },
      "source": [
        "categorical_cols = list(dataframe.select_dtypes(exclude=['float','int']))\n",
        "categorical_cols"
      ],
      "execution_count": 20,
      "outputs": [
        {
          "output_type": "execute_result",
          "data": {
            "text/plain": [
              "['sex', 'smoker']"
            ]
          },
          "metadata": {
            "tags": []
          },
          "execution_count": 20
        }
      ]
    },
    {
      "cell_type": "code",
      "metadata": {
        "id": "FzWKN_fDLAHi",
        "colab_type": "code",
        "colab": {
          "base_uri": "https://localhost:8080/",
          "height": 34
        },
        "outputId": "40158674-92cb-407a-d12b-0083401ba4e2"
      },
      "source": [
        "output_cols = [dataframe.columns[-1]]\n",
        "output_cols"
      ],
      "execution_count": 21,
      "outputs": [
        {
          "output_type": "execute_result",
          "data": {
            "text/plain": [
              "['charges']"
            ]
          },
          "metadata": {
            "tags": []
          },
          "execution_count": 21
        }
      ]
    },
    {
      "cell_type": "code",
      "metadata": {
        "id": "tKbKUZbOtjX3",
        "colab_type": "code",
        "colab": {}
      },
      "source": [
        "def dataframe_to_arrays(dataframe):\n",
        "    # Make a copy of the original dataframe\n",
        "    dataframe1 = dataframe.copy(deep=True)\n",
        "    # Convert non-numeric categorical columns to numbers\n",
        "    for col in categorical_cols:\n",
        "        dataframe1[col] = dataframe1[col].astype('category').cat.codes\n",
        "    # Extract input & outupts as numpy arrays\n",
        "    inputs_array = dataframe1[input_cols].to_numpy()\n",
        "    targets_array = dataframe1[output_cols].to_numpy()\n",
        "    return inputs_array, targets_array"
      ],
      "execution_count": 0,
      "outputs": []
    },
    {
      "cell_type": "code",
      "metadata": {
        "id": "75Ws5-JQt64N",
        "colab_type": "code",
        "colab": {
          "base_uri": "https://localhost:8080/",
          "height": 258
        },
        "outputId": "36309422-b0fe-42f0-f500-4cfbf995f7f0"
      },
      "source": [
        "inputs_array, targets_array = dataframe_to_arrays(dataframe)\n",
        "inputs_array, targets_array"
      ],
      "execution_count": 23,
      "outputs": [
        {
          "output_type": "execute_result",
          "data": {
            "text/plain": [
              "(array([[57.     ,  0.     , 33.84945,  0.     ,  0.     ],\n",
              "        [44.     ,  0.     , 41.02005,  1.     ,  0.     ],\n",
              "        [58.     ,  0.     , 35.32575,  2.     ,  0.     ],\n",
              "        ...,\n",
              "        [59.     ,  0.     , 38.628  ,  2.     ,  0.     ],\n",
              "        [41.     ,  1.     , 31.968  ,  1.     ,  0.     ],\n",
              "        [36.     ,  0.     , 33.3222 ,  0.     ,  0.     ]]),\n",
              " array([[12314.406052 ],\n",
              "        [ 8344.060868 ],\n",
              "        [14151.6635   ],\n",
              "        ...,\n",
              "        [38387.0323512],\n",
              "        [ 6533.5244   ],\n",
              "        [ 5483.062832 ]]))"
            ]
          },
          "metadata": {
            "tags": []
          },
          "execution_count": 23
        }
      ]
    },
    {
      "cell_type": "code",
      "metadata": {
        "id": "3IxKN9qwt-S9",
        "colab_type": "code",
        "colab": {}
      },
      "source": [
        "inputs = torch.tensor(inputs_array, dtype=torch.float32)\n",
        "targets = torch.tensor(targets_array, dtype=torch.float32)"
      ],
      "execution_count": 0,
      "outputs": []
    },
    {
      "cell_type": "code",
      "metadata": {
        "id": "cDxauFam1Xx6",
        "colab_type": "code",
        "colab": {
          "base_uri": "https://localhost:8080/",
          "height": 34
        },
        "outputId": "c958deb9-d068-47a1-c407-b12ba13d4a06"
      },
      "source": [
        "inputs.dtype, targets.dtype"
      ],
      "execution_count": 25,
      "outputs": [
        {
          "output_type": "execute_result",
          "data": {
            "text/plain": [
              "(torch.float32, torch.float32)"
            ]
          },
          "metadata": {
            "tags": []
          },
          "execution_count": 25
        }
      ]
    },
    {
      "cell_type": "code",
      "metadata": {
        "id": "H8BgMhgNFHAw",
        "colab_type": "code",
        "colab": {}
      },
      "source": [
        "dataset = TensorDataset(inputs, targets)"
      ],
      "execution_count": 0,
      "outputs": []
    },
    {
      "cell_type": "code",
      "metadata": {
        "id": "tWMk_gdEF_4M",
        "colab_type": "code",
        "colab": {
          "base_uri": "https://localhost:8080/",
          "height": 34
        },
        "outputId": "b985d39a-bc4e-474a-b7fd-4d42f09e91f1"
      },
      "source": [
        "val_percent = 0.1 # between 0.1 and 0.2\n",
        "val_size = int(num_rows * val_percent)\n",
        "\n",
        "train_size = num_rows - val_size\n",
        "print(val_size ,train_size)\n",
        "\n",
        "train_ds, val_ds = random_split(dataset, [train_size, val_size])"
      ],
      "execution_count": 27,
      "outputs": [
        {
          "output_type": "stream",
          "text": [
            "127 1144\n"
          ],
          "name": "stdout"
        }
      ]
    },
    {
      "cell_type": "code",
      "metadata": {
        "id": "LUIVuf6WGCzb",
        "colab_type": "code",
        "colab": {}
      },
      "source": [
        "batch_size = 256"
      ],
      "execution_count": 0,
      "outputs": []
    },
    {
      "cell_type": "code",
      "metadata": {
        "id": "Z61Pj8u2Gjdr",
        "colab_type": "code",
        "colab": {}
      },
      "source": [
        "train_loader = DataLoader(train_ds, batch_size, shuffle=True)\n",
        "val_loader = DataLoader(val_ds, batch_size)"
      ],
      "execution_count": 0,
      "outputs": []
    },
    {
      "cell_type": "code",
      "metadata": {
        "id": "JwKDVbJGGtDc",
        "colab_type": "code",
        "colab": {
          "base_uri": "https://localhost:8080/",
          "height": 1000
        },
        "outputId": "916270b5-2959-4f3d-fb9b-fd32aa2c94a4"
      },
      "source": [
        "for xb, yb in train_loader:\n",
        "    print(\"inputs:\", xb)\n",
        "    print(\"targets:\", yb)\n",
        "    break"
      ],
      "execution_count": 58,
      "outputs": [
        {
          "output_type": "stream",
          "text": [
            "inputs: tensor([[54.0000,  1.0000, 34.1880,  1.0000,  1.0000],\n",
            "        [40.0000,  1.0000, 36.3802,  1.0000,  1.0000],\n",
            "        [50.0000,  0.0000, 30.0532,  1.0000,  0.0000],\n",
            "        ...,\n",
            "        [33.0000,  1.0000, 33.5775,  0.0000,  0.0000],\n",
            "        [29.0000,  1.0000, 39.4050,  2.0000,  1.0000],\n",
            "        [31.0000,  1.0000, 31.7404,  1.0000,  0.0000]])\n",
            "targets: tensor([[43679.5000],\n",
            "        [40690.3438],\n",
            "        [10510.3799],\n",
            "        [ 8860.8271],\n",
            "        [ 4618.8618],\n",
            "        [39952.0938],\n",
            "        [ 4936.9351],\n",
            "        [ 1899.9167],\n",
            "        [ 3167.9045],\n",
            "        [ 3019.0227],\n",
            "        [14891.7920],\n",
            "        [41429.9805],\n",
            "        [ 6208.5117],\n",
            "        [ 7929.6152],\n",
            "        [11132.6484],\n",
            "        [18989.5840],\n",
            "        [12928.1914],\n",
            "        [ 8940.7012],\n",
            "        [ 4012.0696],\n",
            "        [ 8272.6973],\n",
            "        [ 8765.1924],\n",
            "        [10275.2705],\n",
            "        [ 6564.4302],\n",
            "        [ 9036.4131],\n",
            "        [ 2558.1089],\n",
            "        [20276.5879],\n",
            "        [ 4908.5259],\n",
            "        [ 6587.7173],\n",
            "        [24843.1699],\n",
            "        [13114.2822],\n",
            "        [34810.8516],\n",
            "        [ 1953.0466],\n",
            "        [ 7150.9995],\n",
            "        [ 6069.9814],\n",
            "        [11454.2607],\n",
            "        [ 7945.9214],\n",
            "        [15053.6621],\n",
            "        [ 3487.4153],\n",
            "        [ 6373.9492],\n",
            "        [40052.0938],\n",
            "        [13951.6396],\n",
            "        [13929.5059],\n",
            "        [11018.2812],\n",
            "        [ 9880.5957],\n",
            "        [ 5600.7515],\n",
            "        [11239.7861],\n",
            "        [ 7741.3887],\n",
            "        [ 6163.9199],\n",
            "        [36198.7266],\n",
            "        [13926.1816],\n",
            "        [ 4610.7231],\n",
            "        [11817.8145],\n",
            "        [ 9635.3887],\n",
            "        [ 1701.1630],\n",
            "        [12028.9521],\n",
            "        [39878.3477],\n",
            "        [12233.5205],\n",
            "        [10002.3691],\n",
            "        [ 4645.2861],\n",
            "        [23029.7930],\n",
            "        [20302.8477],\n",
            "        [ 3696.3711],\n",
            "        [ 8972.6426],\n",
            "        [47530.1016],\n",
            "        [ 3699.1992],\n",
            "        [35624.2148],\n",
            "        [49396.3555],\n",
            "        [ 8059.1226],\n",
            "        [ 6357.7603],\n",
            "        [ 2223.1597],\n",
            "        [ 4906.9316],\n",
            "        [ 1575.9587],\n",
            "        [ 8101.2202],\n",
            "        [ 7618.0503],\n",
            "        [ 4612.4980],\n",
            "        [ 2535.5774],\n",
            "        [ 4101.3394],\n",
            "        [ 9188.6758],\n",
            "        [10249.3369],\n",
            "        [11379.8174],\n",
            "        [14824.7930],\n",
            "        [42675.5898],\n",
            "        [ 5613.5215],\n",
            "        [ 2841.1887],\n",
            "        [ 9753.0205],\n",
            "        [19910.3594],\n",
            "        [15767.9961],\n",
            "        [26682.8379],\n",
            "        [10010.9570],\n",
            "        [10468.0293],\n",
            "        [27032.5332],\n",
            "        [ 1693.6097],\n",
            "        [40344.3945],\n",
            "        [11810.9277],\n",
            "        [13500.5996],\n",
            "        [ 2598.3511],\n",
            "        [ 3700.9651],\n",
            "        [12316.3291],\n",
            "        [ 1814.2437],\n",
            "        [ 3013.2166],\n",
            "        [ 6953.8887],\n",
            "        [ 2851.6260],\n",
            "        [ 7460.2944],\n",
            "        [19802.5117],\n",
            "        [ 8390.9121],\n",
            "        [ 7023.1597],\n",
            "        [18976.3555],\n",
            "        [22081.4688],\n",
            "        [25868.3203],\n",
            "        [41884.5898],\n",
            "        [18952.3887],\n",
            "        [ 9178.0898],\n",
            "        [ 5031.0854],\n",
            "        [23377.7441],\n",
            "        [12720.8779],\n",
            "        [ 7484.7417],\n",
            "        [25022.0684],\n",
            "        [45566.4219],\n",
            "        [ 8608.6240],\n",
            "        [27447.9512],\n",
            "        [25654.1152],\n",
            "        [ 9761.6074],\n",
            "        [ 3580.7866],\n",
            "        [ 3520.8152],\n",
            "        [ 6864.2144],\n",
            "        [ 3342.1670],\n",
            "        [41196.2266],\n",
            "        [10853.5400],\n",
            "        [13967.4756],\n",
            "        [ 2817.6138],\n",
            "        [ 4708.2705],\n",
            "        [ 7052.6084],\n",
            "        [ 7448.4927],\n",
            "        [12995.1025],\n",
            "        [ 1762.5883],\n",
            "        [39252.2773],\n",
            "        [ 1697.8671],\n",
            "        [ 3841.1650],\n",
            "        [13328.0625],\n",
            "        [65096.5898],\n",
            "        [11025.4688],\n",
            "        [16728.5332],\n",
            "        [ 6649.3477],\n",
            "        [ 3735.1392],\n",
            "        [ 7638.8872],\n",
            "        [12330.6680],\n",
            "        [12858.0889],\n",
            "        [ 3487.6091],\n",
            "        [20124.3828],\n",
            "        [12974.3652],\n",
            "        [14384.3594],\n",
            "        [10306.7744],\n",
            "        [15606.8428],\n",
            "        [20296.1641],\n",
            "        [11525.8799],\n",
            "        [13442.9219],\n",
            "        [12415.7861],\n",
            "        [ 6229.1045],\n",
            "        [23967.3887],\n",
            "        [14970.3398],\n",
            "        [ 5632.2876],\n",
            "        [49197.5156],\n",
            "        [21925.4473],\n",
            "        [11758.1719],\n",
            "        [ 6716.1572],\n",
            "        [ 3178.6436],\n",
            "        [ 6610.5215],\n",
            "        [ 1698.3662],\n",
            "        [ 2188.2778],\n",
            "        [47997.1680],\n",
            "        [49845.1523],\n",
            "        [ 1888.5110],\n",
            "        [11723.2246],\n",
            "        [ 8876.0586],\n",
            "        [ 5132.0933],\n",
            "        [10104.4746],\n",
            "        [ 5937.2217],\n",
            "        [ 6541.3452],\n",
            "        [ 1773.8495],\n",
            "        [ 7738.6953],\n",
            "        [ 6090.1387],\n",
            "        [14495.1729],\n",
            "        [15497.5771],\n",
            "        [ 2886.2000],\n",
            "        [11282.0596],\n",
            "        [ 9289.3672],\n",
            "        [15776.8721],\n",
            "        [43595.8594],\n",
            "        [13059.9092],\n",
            "        [11002.8994],\n",
            "        [ 1779.4679],\n",
            "        [ 2051.8679],\n",
            "        [ 9082.5586],\n",
            "        [10362.6221],\n",
            "        [ 2394.3921],\n",
            "        [ 5676.3682],\n",
            "        [ 8305.9346],\n",
            "        [ 7122.9868],\n",
            "        [ 8912.6562],\n",
            "        [39111.8281],\n",
            "        [ 3142.6814],\n",
            "        [42349.3750],\n",
            "        [13150.3730],\n",
            "        [ 3337.1384],\n",
            "        [11779.7832],\n",
            "        [ 3546.7371],\n",
            "        [ 2306.1680],\n",
            "        [ 7210.5718],\n",
            "        [15973.4688],\n",
            "        [40257.5430],\n",
            "        [10270.7080],\n",
            "        [ 6760.2451],\n",
            "        [ 1306.5509],\n",
            "        [ 8349.0869],\n",
            "        [ 9465.8701],\n",
            "        [34639.8516],\n",
            "        [44984.5938],\n",
            "        [11596.8115],\n",
            "        [12513.6191],\n",
            "        [ 2240.5354],\n",
            "        [20220.0469],\n",
            "        [ 4299.4458],\n",
            "        [14436.1865],\n",
            "        [36170.8008],\n",
            "        [ 3356.2061],\n",
            "        [13651.7441],\n",
            "        [ 9594.2666],\n",
            "        [14274.4902],\n",
            "        [46031.1797],\n",
            "        [ 5937.5308],\n",
            "        [ 3408.2476],\n",
            "        [ 6670.7451],\n",
            "        [ 1955.2728],\n",
            "        [ 2215.9028],\n",
            "        [12424.4912],\n",
            "        [19721.6992],\n",
            "        [17764.3223],\n",
            "        [ 3307.7305],\n",
            "        [ 1731.5996],\n",
            "        [21281.5176],\n",
            "        [ 1182.4915],\n",
            "        [20984.7773],\n",
            "        [14009.6367],\n",
            "        [41789.5352],\n",
            "        [37019.4141],\n",
            "        [17108.9297],\n",
            "        [ 7639.5557],\n",
            "        [ 7556.3306],\n",
            "        [ 6205.5630],\n",
            "        [21088.9199],\n",
            "        [20810.0195],\n",
            "        [ 5592.5562],\n",
            "        [45678.0312],\n",
            "        [ 3852.5286],\n",
            "        [46368.8750],\n",
            "        [ 4413.3335]])\n"
          ],
          "name": "stdout"
        }
      ]
    },
    {
      "cell_type": "code",
      "metadata": {
        "id": "lbLKNpMYGwJT",
        "colab_type": "code",
        "colab": {
          "base_uri": "https://localhost:8080/",
          "height": 51
        },
        "outputId": "0a7526a4-f1db-49f7-df8f-f75db2640522"
      },
      "source": [
        "input_size = len(input_cols)\n",
        "print(input_size)\n",
        "output_size = len(output_cols)\n",
        "print(output_size)"
      ],
      "execution_count": 59,
      "outputs": [
        {
          "output_type": "stream",
          "text": [
            "5\n",
            "1\n"
          ],
          "name": "stdout"
        }
      ]
    },
    {
      "cell_type": "code",
      "metadata": {
        "id": "xMO1RO2QG3sX",
        "colab_type": "code",
        "colab": {}
      },
      "source": [
        "class InsuranceModel(nn.Module):\n",
        "    def __init__(self):\n",
        "        super().__init__()\n",
        "        self.linear = nn.Linear(input_size, output_size) # fill this (hint: use input_size & output_size defined above)\n",
        "        \n",
        "    def forward(self, xb):\n",
        "        out = self.linear(xb)                          # fill this\n",
        "        return out\n",
        "    \n",
        "    def training_step(self, batch):\n",
        "        inputs, targets = batch \n",
        "        # Generate predictions\n",
        "        out = self(inputs)          \n",
        "        # Calcuate loss\n",
        "        loss = F.smooth_l1_loss(out, targets)                # fill this\n",
        "        return loss\n",
        "    \n",
        "    def validation_step(self, batch):\n",
        "        inputs, targets = batch\n",
        "        # Generate predictions\n",
        "        out = self(inputs)\n",
        "        # Calculate loss\n",
        "        loss = F.smooth_l1_loss(out, targets)                           # fill this    \n",
        "        return {'val_loss': loss.detach()}\n",
        "        \n",
        "    def validation_epoch_end(self, outputs):\n",
        "        batch_losses = [x['val_loss'] for x in outputs]\n",
        "        epoch_loss = torch.stack(batch_losses).mean()   # Combine losses\n",
        "        return {'val_loss': epoch_loss.item()}\n",
        "    \n",
        "    def epoch_end(self, epoch, result, num_epochs):\n",
        "        # Print result every 20th epoch\n",
        "        if (epoch+1) % 20 == 0 or epoch == num_epochs-1:\n",
        "            print(\"Epoch [{}], val_loss: {:.4f}\".format(epoch+1, result['val_loss']))"
      ],
      "execution_count": 0,
      "outputs": []
    },
    {
      "cell_type": "code",
      "metadata": {
        "id": "KyirDeK4K_wi",
        "colab_type": "code",
        "colab": {}
      },
      "source": [
        "model = InsuranceModel()"
      ],
      "execution_count": 0,
      "outputs": []
    },
    {
      "cell_type": "code",
      "metadata": {
        "id": "J-4yjhF9LCz3",
        "colab_type": "code",
        "colab": {
          "base_uri": "https://localhost:8080/",
          "height": 86
        },
        "outputId": "38354edf-57ce-4374-e9b0-f23aef2bc86b"
      },
      "source": [
        "list(model.parameters())"
      ],
      "execution_count": 76,
      "outputs": [
        {
          "output_type": "execute_result",
          "data": {
            "text/plain": [
              "[Parameter containing:\n",
              " tensor([[-0.0514, -0.0243,  0.2833, -0.4191, -0.0452]], requires_grad=True),\n",
              " Parameter containing:\n",
              " tensor([-0.2549], requires_grad=True)]"
            ]
          },
          "metadata": {
            "tags": []
          },
          "execution_count": 76
        }
      ]
    },
    {
      "cell_type": "code",
      "metadata": {
        "id": "HIjbymILLERM",
        "colab_type": "code",
        "colab": {}
      },
      "source": [
        "def evaluate(model, val_loader):\n",
        "    outputs = [model.validation_step(batch) for batch in val_loader]\n",
        "    return model.validation_epoch_end(outputs)\n",
        "\n",
        "def fit(epochs, lr, model, train_loader, val_loader, opt_func=torch.optim.SGD):\n",
        "    history = []\n",
        "    optimizer = opt_func(model.parameters(), lr)\n",
        "    for epoch in range(epochs):\n",
        "        # Training Phase \n",
        "        for batch in train_loader:\n",
        "            loss = model.training_step(batch)\n",
        "            loss.backward()\n",
        "            optimizer.step()\n",
        "            optimizer.zero_grad()\n",
        "        # Validation phase\n",
        "        result = evaluate(model, val_loader)\n",
        "        model.epoch_end(epoch, result, epochs)\n",
        "        history.append(result)\n",
        "    return history"
      ],
      "execution_count": 0,
      "outputs": []
    },
    {
      "cell_type": "code",
      "metadata": {
        "id": "Bc0DLmRKLJeL",
        "colab_type": "code",
        "colab": {
          "base_uri": "https://localhost:8080/",
          "height": 34
        },
        "outputId": "54fcb0b8-0d3c-4b24-95d3-a74693bdafee"
      },
      "source": [
        "result = evaluate(model, val_loader) # Use the the evaluate function\n",
        "print(result)"
      ],
      "execution_count": 78,
      "outputs": [
        {
          "output_type": "stream",
          "text": [
            "{'val_loss': 12355.8583984375}\n"
          ],
          "name": "stdout"
        }
      ]
    },
    {
      "cell_type": "code",
      "metadata": {
        "id": "SI3JpWqjLc06",
        "colab_type": "code",
        "colab": {
          "base_uri": "https://localhost:8080/",
          "height": 103
        },
        "outputId": "23aff44f-81d8-4440-ef02-7751051ac7f0"
      },
      "source": [
        "epochs = 100\n",
        "lr = 1e-2\n",
        "history1 = fit(epochs, lr, model, train_loader, val_loader)"
      ],
      "execution_count": 79,
      "outputs": [
        {
          "output_type": "stream",
          "text": [
            "Epoch [20], val_loss: 9802.6855\n",
            "Epoch [40], val_loss: 8130.2402\n",
            "Epoch [60], val_loss: 7274.6226\n",
            "Epoch [80], val_loss: 6893.3096\n",
            "Epoch [100], val_loss: 6767.3042\n"
          ],
          "name": "stdout"
        }
      ]
    },
    {
      "cell_type": "code",
      "metadata": {
        "id": "uKEu5vYfLcXr",
        "colab_type": "code",
        "colab": {
          "base_uri": "https://localhost:8080/",
          "height": 103
        },
        "outputId": "7c4fe554-9475-4753-cccd-8db3292da488"
      },
      "source": [
        "epochs = 100\n",
        "lr = 1e-3\n",
        "history2 = fit(epochs, lr, model, train_loader, val_loader)"
      ],
      "execution_count": 80,
      "outputs": [
        {
          "output_type": "stream",
          "text": [
            "Epoch [20], val_loss: 6764.7764\n",
            "Epoch [40], val_loss: 6762.2822\n",
            "Epoch [60], val_loss: 6759.8301\n",
            "Epoch [80], val_loss: 6757.3965\n",
            "Epoch [100], val_loss: 6754.9956\n"
          ],
          "name": "stdout"
        }
      ]
    },
    {
      "cell_type": "code",
      "metadata": {
        "id": "8RRG3dTLLb_i",
        "colab_type": "code",
        "colab": {
          "base_uri": "https://localhost:8080/",
          "height": 155
        },
        "outputId": "add684f2-54d1-489c-e3fc-35fd4737ca4b"
      },
      "source": [
        "epochs = 150\n",
        "lr = 1e-4\n",
        "history3 = fit(epochs, lr, model, train_loader, val_loader)"
      ],
      "execution_count": 81,
      "outputs": [
        {
          "output_type": "stream",
          "text": [
            "Epoch [20], val_loss: 6754.7603\n",
            "Epoch [40], val_loss: 6754.5234\n",
            "Epoch [60], val_loss: 6754.2900\n",
            "Epoch [80], val_loss: 6754.0552\n",
            "Epoch [100], val_loss: 6753.8203\n",
            "Epoch [120], val_loss: 6753.5879\n",
            "Epoch [140], val_loss: 6753.3545\n",
            "Epoch [150], val_loss: 6753.2378\n"
          ],
          "name": "stdout"
        }
      ]
    },
    {
      "cell_type": "code",
      "metadata": {
        "id": "hYTnxFM4LbaV",
        "colab_type": "code",
        "colab": {
          "base_uri": "https://localhost:8080/",
          "height": 155
        },
        "outputId": "eb2dc20f-8211-466a-ddf7-c22120a557ae"
      },
      "source": [
        "epochs = 150\n",
        "lr = 1e-5\n",
        "history4 = fit(epochs, lr, model, train_loader, val_loader)"
      ],
      "execution_count": 82,
      "outputs": [
        {
          "output_type": "stream",
          "text": [
            "Epoch [20], val_loss: 6753.2153\n",
            "Epoch [40], val_loss: 6753.1899\n",
            "Epoch [60], val_loss: 6753.1680\n",
            "Epoch [80], val_loss: 6753.1450\n",
            "Epoch [100], val_loss: 6753.1206\n",
            "Epoch [120], val_loss: 6753.0977\n",
            "Epoch [140], val_loss: 6753.0742\n",
            "Epoch [150], val_loss: 6753.0625\n"
          ],
          "name": "stdout"
        }
      ]
    },
    {
      "cell_type": "code",
      "metadata": {
        "id": "g1o787M3LSs2",
        "colab_type": "code",
        "colab": {
          "base_uri": "https://localhost:8080/",
          "height": 189
        },
        "outputId": "58ef0432-b72d-42b1-84e3-2952d3a1aac8"
      },
      "source": [
        "epochs = 200\n",
        "lr = 1e-6\n",
        "history5 = fit(epochs, lr, model, train_loader, val_loader)"
      ],
      "execution_count": 83,
      "outputs": [
        {
          "output_type": "stream",
          "text": [
            "Epoch [20], val_loss: 6753.0596\n",
            "Epoch [40], val_loss: 6753.0591\n",
            "Epoch [60], val_loss: 6753.0562\n",
            "Epoch [80], val_loss: 6753.0537\n",
            "Epoch [100], val_loss: 6753.0518\n",
            "Epoch [120], val_loss: 6753.0508\n",
            "Epoch [140], val_loss: 6753.0474\n",
            "Epoch [160], val_loss: 6753.0459\n",
            "Epoch [180], val_loss: 6753.0430\n",
            "Epoch [200], val_loss: 6753.0420\n"
          ],
          "name": "stdout"
        }
      ]
    },
    {
      "cell_type": "code",
      "metadata": {
        "id": "Ufx9w7y3MsfW",
        "colab_type": "code",
        "colab": {}
      },
      "source": [
        "def predict_single(input, target, model):\n",
        "    inputs = input.unsqueeze(0)\n",
        "    predictions = model(inputs)                # fill this\n",
        "    prediction = predictions[0].detach()\n",
        "    print(\"Input:\", input)\n",
        "    print(\"Target:\", target)\n",
        "    print(\"Prediction:\", prediction)"
      ],
      "execution_count": 0,
      "outputs": []
    },
    {
      "cell_type": "code",
      "metadata": {
        "id": "3J4eQsGcM07F",
        "colab_type": "code",
        "colab": {
          "base_uri": "https://localhost:8080/",
          "height": 69
        },
        "outputId": "e3809376-e46d-491d-d834-e65a4ba206d9"
      },
      "source": [
        "input, target = val_ds[0]\n",
        "predict_single(input, target, model)"
      ],
      "execution_count": 85,
      "outputs": [
        {
          "output_type": "stream",
          "text": [
            "Input: tensor([25.0000,  1.0000, 26.7843,  0.0000,  1.0000])\n",
            "Target: tensor([16450.7051])\n",
            "Prediction: tensor([5802.6973])\n"
          ],
          "name": "stdout"
        }
      ]
    },
    {
      "cell_type": "code",
      "metadata": {
        "id": "0WV1FzosM3or",
        "colab_type": "code",
        "colab": {
          "base_uri": "https://localhost:8080/",
          "height": 69
        },
        "outputId": "462a9aa3-96f0-4496-bf2f-5dbf72d46cee"
      },
      "source": [
        "input, target = val_ds[10]\n",
        "predict_single(input, target, model)"
      ],
      "execution_count": 86,
      "outputs": [
        {
          "output_type": "stream",
          "text": [
            "Input: tensor([18.0000,  0.0000, 35.6532,  2.0000,  0.0000])\n",
            "Target: tensor([2913.3091])\n",
            "Prediction: tensor([5649.6602])\n"
          ],
          "name": "stdout"
        }
      ]
    },
    {
      "cell_type": "code",
      "metadata": {
        "id": "0GL0BUqNNJBF",
        "colab_type": "code",
        "colab": {}
      },
      "source": [
        ""
      ],
      "execution_count": 0,
      "outputs": []
    }
  ]
}